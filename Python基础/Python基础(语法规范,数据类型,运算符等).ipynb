{
 "cells": [
  {
   "cell_type": "markdown",
   "metadata": {},
   "source": [
    "# Markdown常用基本语法"
   ]
  },
  {
   "cell_type": "markdown",
   "metadata": {},
   "source": [
    "## 标题"
   ]
  },
  {
   "cell_type": "markdown",
   "metadata": {},
   "source": [
    "在文字前加`#`则代表`#`的个数不同,标题的级别也就不同,后面在加上个`空格`\n",
    "- 一级标题    #\n",
    "- 二级标题    ##\n",
    "- 三级标题    ###\n",
    "- 四级标题    ####"
   ]
  },
  {
   "cell_type": "markdown",
   "metadata": {},
   "source": [
    "## 文字效果"
   ]
  },
  {
   "cell_type": "markdown",
   "metadata": {},
   "source": [
    "### **加粗**  \n",
    "\n",
    "**语法:**\\*\\*文本\\*\\*\n",
    "\n",
    "### *斜体*\n",
    "\n",
    "**语法:**\\*文本\\*\n",
    "\n",
    "### ***斜体加粗***\n",
    "\n",
    "**语法:**\\*\\*\\*文本\\*\\*\\*\n",
    "\n",
    "### ~~删除线~~\n",
    "\n",
    "**语法:**\\~\\~文本\\~\\~\n",
    "\n",
    "### 引用\n",
    "\n",
    "**语法:**`人生苦短,Python当歌`\n",
    "\n",
    "### 表格\n",
    "\n",
    "**语法:**\n",
    "表头|表头|表头\n",
    "----|----|---\n",
    "内容|内容|内容\n",
    "内容|内容|内容\n",
    "\n",
    "\n",
    "表头|表头|表头\n",
    "----|----|---\n",
    "内容|内容|内容\n",
    "内容|内容|内容\n",
    "\n",
    "### 不需要运行的代码块可以用反引号(数字1左边的按键)括起来\n",
    "\n",
    "**语法:**\n",
    "\\`\\`\\`\n",
    "被引用的代码块\n",
    "\\`\\`\\`\n",
    "\n",
    "```python\n",
    "a = 1\n",
    "if a > 0:\n",
    "    print('正数')\n",
    "elif a < 0:\n",
    "    print('负数')\n",
    "else:\n",
    "    print('零')\n",
    "```"
   ]
  },
  {
   "cell_type": "markdown",
   "metadata": {},
   "source": [
    "# Python代码语法"
   ]
  },
  {
   "cell_type": "markdown",
   "metadata": {},
   "source": [
    "## 查看函数帮助文档"
   ]
  },
  {
   "cell_type": "code",
   "execution_count": 1,
   "metadata": {},
   "outputs": [
    {
     "name": "stdout",
     "output_type": "stream",
     "text": [
      "\n"
     ]
    }
   ],
   "source": [
    "print()  \n",
    "# shift + tab 查看帮助文档方法一"
   ]
  },
  {
   "cell_type": "code",
   "execution_count": 2,
   "metadata": {},
   "outputs": [],
   "source": [
    "?print  \n",
    "#查看帮助文档方法二"
   ]
  },
  {
   "cell_type": "code",
   "execution_count": 3,
   "metadata": {},
   "outputs": [
    {
     "name": "stdout",
     "output_type": "stream",
     "text": [
      "Help on built-in function print in module builtins:\n",
      "\n",
      "print(...)\n",
      "    print(value, ..., sep=' ', end='\\n', file=sys.stdout, flush=False)\n",
      "    \n",
      "    Prints the values to a stream, or to sys.stdout by default.\n",
      "    Optional keyword arguments:\n",
      "    file:  a file-like object (stream); defaults to the current sys.stdout.\n",
      "    sep:   string inserted between values, default a space.\n",
      "    end:   string appended after the last value, default a newline.\n",
      "    flush: whether to forcibly flush the stream.\n",
      "\n"
     ]
    }
   ],
   "source": [
    "help(print)\n",
    "#通过help函数查看函数帮助文档"
   ]
  },
  {
   "cell_type": "markdown",
   "metadata": {},
   "source": [
    "## 注释"
   ]
  },
  {
   "cell_type": "markdown",
   "metadata": {},
   "source": [
    "- 在 Python 中，`#` 表示注释，作用于整行。"
   ]
  },
  {
   "cell_type": "code",
   "execution_count": 4,
   "metadata": {
    "code_folding": []
   },
   "outputs": [],
   "source": [
    "# 这是一个单行注释"
   ]
  },
  {
   "cell_type": "code",
   "execution_count": 5,
   "metadata": {},
   "outputs": [],
   "source": [
    "# 快捷键为Ctrl+/,注意快捷键每次都对整行进行注释,如果一行内既有需要运行的代码又有需要注释的文字时,谨慎使用"
   ]
  },
  {
   "cell_type": "markdown",
   "metadata": {},
   "source": [
    "- `''' '''` 或者 `\"\"\" \"\"\"` 表示区间注释，在三引号之间的所有内容被注释"
   ]
  },
  {
   "cell_type": "code",
   "execution_count": 6,
   "metadata": {},
   "outputs": [
    {
     "data": {
      "text/plain": [
       "'\\n这是多行注释\\n单引号或者双引号都可以\\n但是单双引号不能混用\\n'"
      ]
     },
     "execution_count": 6,
     "metadata": {},
     "output_type": "execute_result"
    }
   ],
   "source": [
    "'''\n",
    "这是多行注释\n",
    "单引号或者双引号都可以\n",
    "但是单双引号不能混用\n",
    "'''"
   ]
  },
  {
   "cell_type": "markdown",
   "metadata": {},
   "source": [
    "### print()函数"
   ]
  },
  {
   "cell_type": "markdown",
   "metadata": {},
   "source": [
    "```\n",
    "print(value, ..., sep=' ', end='\\n', file=sys.stdout, flush=False)\n",
    "```"
   ]
  },
  {
   "cell_type": "markdown",
   "metadata": {},
   "source": [
    "- 将对象以字符串表示的方式格式化输出到流文件对象file里。其中所有非关键字参数都按`str()`方式进行转换为字符串输出；\n",
    "- 关键字参数`sep`是实现分隔符，比如多个参数输出时想要输出中间的分隔字符；\n",
    "- 关键字参数`end`是输出结束时的字符，默认是换行符`\\n`；\n",
    "- 关键字参数`file`是定义流输出的文件，可以是标准的系统输出`sys.stdout`，也可以重定义为别的文件；\n",
    "- 关键字参数`flush`是立即把内容输出到流文件，不作缓存。"
   ]
  },
  {
   "cell_type": "markdown",
   "metadata": {},
   "source": [
    "print是打印的意思,在这里指的是向屏幕上输出指定的文字\n",
    "\n",
    "print 可以打印单个值,也可以打印多个值,还可以设置以什么字符作为多个值之间的分隔."
   ]
  },
  {
   "cell_type": "code",
   "execution_count": 7,
   "metadata": {},
   "outputs": [
    {
     "name": "stdout",
     "output_type": "stream",
     "text": [
      "Hello World\n"
     ]
    }
   ],
   "source": [
    "print('Hello World')"
   ]
  },
  {
   "cell_type": "code",
   "execution_count": 8,
   "metadata": {},
   "outputs": [
    {
     "name": "stdout",
     "output_type": "stream",
     "text": [
      "Hello***World\n"
     ]
    }
   ],
   "source": [
    "print('Hello', 'World', sep = '***') #设置分隔符"
   ]
  },
  {
   "cell_type": "code",
   "execution_count": 9,
   "metadata": {},
   "outputs": [
    {
     "name": "stdout",
     "output_type": "stream",
     "text": [
      "Hello *** World &"
     ]
    }
   ],
   "source": [
    "print('Hello', 'World',sep = ' *** ',end = ' &') #设置结束符"
   ]
  },
  {
   "cell_type": "markdown",
   "metadata": {},
   "source": [
    "有多少个print函数,都可以一起显示"
   ]
  },
  {
   "cell_type": "code",
   "execution_count": 10,
   "metadata": {},
   "outputs": [
    {
     "name": "stdout",
     "output_type": "stream",
     "text": [
      "                            _ooOoo_                     \n",
      "                           o8888888o                    \n",
      "                           88  .  88                    \n",
      "                           (| -_- |)                    \n",
      "                            O\\ = /O                    \n",
      "                        ____/`---'\\____                \n",
      "                      .   ' \\| |// `.                  \n",
      "                       / \\||| : |||// \\               \n",
      "                     / _||||| -:- |||||- \\             \n",
      "                       | | \\\\\\ - /// | |             \n",
      "                     | \\_| ''\\---/'' | |              \n",
      "                      \\ .-\\__ `-` ___/-. /            \n",
      "                   ___`. .' /--.--\\ `. . __            \n",
      "                . '< `.___\\_<|>_/___.' >'.         \n",
      "               | | : `- \\`.;`\\ _ /`;.`/ - ` : | |     \n",
      "                 \\ \\ `-. \\_ __\\ /__ _/ .-` / /      \n",
      "         ======`-.____`-.___\\_____/___.-`____.-'====== \n",
      "                            `=---='  \n",
      "                                                        \n",
      "         .............................................  \n",
      "                  佛祖镇楼             BUG辟邪          \n"
     ]
    }
   ],
   "source": [
    "print(\"                            _ooOoo_                     \")\n",
    "print(\"                           o8888888o                    \")\n",
    "print(\"                           88  .  88                    \")\n",
    "print(\"                           (| -_- |)                    \")\n",
    "print(\"                            O\\\\ = /O                    \")\n",
    "print(\"                        ____/`---'\\\\____                \")\n",
    "print(\"                      .   ' \\\\| |// `.                  \")\n",
    "print(\"                       / \\\\||| : |||// \\\\               \")\n",
    "print(\"                     / _||||| -:- |||||- \\\\             \")\n",
    "print(\"                       | | \\\\\\\\\\\\ - /// | |             \")\n",
    "print(\"                     | \\\\_| ''\\\\---/'' | |              \")\n",
    "print(\"                      \\\\ .-\\\\__ `-` ___/-. /            \")\n",
    "print(\"                   ___`. .' /--.--\\\\ `. . __            \")\n",
    "print(\"                .\"\" '< `.___\\\\_<|>_/___.' >'\"\".         \")\n",
    "print(\"               | | : `- \\\\`.;`\\\\ _ /`;.`/ - ` : | |     \")\n",
    "print(\"                 \\\\ \\\\ `-. \\\\_ __\\\\ /__ _/ .-` / /      \")\n",
    "print(\"         ======`-.____`-.___\\\\_____/___.-`____.-'====== \")\n",
    "print(\"                            `=---='  \")\n",
    "print(\"                                                        \")\n",
    "print(\"         .............................................  \")\n",
    "print(\"                  佛祖镇楼             BUG辟邪          \")"
   ]
  },
  {
   "cell_type": "markdown",
   "metadata": {},
   "source": [
    "多行字符可以用三对引号"
   ]
  },
  {
   "cell_type": "code",
   "execution_count": 11,
   "metadata": {
    "scrolled": false
   },
   "outputs": [
    {
     "name": "stdout",
     "output_type": "stream",
     "text": [
      "                           \n",
      "                            _ooOoo_                     \n",
      "                           o8888888o                   \n",
      "                           88  .  88                   \n",
      "                           (| -_- |)                    \n",
      "                            O\\ = /O                    \n",
      "                        ____/`---'\\____                \n",
      "                       .   ' \\| |// `.                  \n",
      "                        / \\||| : |||// \\               \n",
      "                     / _||||| -:- |||||- \\             \n",
      "                        | | \\\\\\ - /// | |             \n",
      "                     | \\_| ''\\---/'' | |              \n",
      "                      \\ .-\\__ `-` ___/-. /            \n",
      "                    ___`. .' /--.--\\ `. . __            \n",
      "                .\"\" '< `.___\\_<|>_/___.' >'\"\".         \n",
      "               | | : `- \\`.;`\\ _ /`;.`/ - ` : | |     \n",
      "                  \\ \\ `-. \\_ __\\ /__ _/ .-` / /      \n",
      "          ======`-.____`-.___\\_____/___.-`____.-'====== \n",
      "                            `=---='  \n",
      "                                                      \n",
      "         .............................................  \n",
      "                  佛祖镇楼             BUG辟邪         \n"
     ]
    }
   ],
   "source": [
    "print(\"\"\"                           \n",
    "                            _ooOoo_                     \n",
    "                           o8888888o                   \n",
    "                           88  .  88                   \n",
    "                           (| -_- |)                    \n",
    "                            O\\ = /O                    \n",
    "                        ____/`---'\\\\____                \n",
    "                       .   ' \\| |// `.                  \n",
    "                        / \\||| : |||// \\\\               \n",
    "                     / _||||| -:- |||||- \\\\             \n",
    "                        | | \\\\\\\\\\\\ - /// | |             \n",
    "                     | \\_| ''\\\\---/'' | |              \n",
    "                      \\ .-\\\\__ `-` ___/-. /            \n",
    "                    ___`. .' /--.--\\\\ `. . __            \n",
    "                .\"\" '< `.___\\\\_<|>_/___.' >'\"\".         \n",
    "               | | : `- \\`.;`\\\\ _ /`;.`/ - ` : | |     \n",
    "                  \\ \\ `-. \\\\_ __\\\\ /__ _/ .-` / /      \n",
    "          ======`-.____`-.___\\\\_____/___.-`____.-'====== \n",
    "                            `=---='  \n",
    "                                                      \n",
    "         .............................................  \n",
    "                  佛祖镇楼             BUG辟邪         \"\"\") "
   ]
  },
  {
   "cell_type": "markdown",
   "metadata": {},
   "source": [
    "## 变量和赋值"
   ]
  },
  {
   "cell_type": "markdown",
   "metadata": {},
   "source": [
    "- 在使用变量之前，需要对其先赋值。\n",
    "- 变量名可以包括字母、数字、下划线、但变量名不能以数字开头。\n",
    "- Python 变量名是大小写敏感的，foo != Foo。\n",
    "- Python中用赋值语句的方式赋值一个变量,不需要显式声明变量的数据类型,Python解释器根据所赋值的数据类型自动确定变量的类型"
   ]
  },
  {
   "cell_type": "code",
   "execution_count": 12,
   "metadata": {},
   "outputs": [
    {
     "name": "stdout",
     "output_type": "stream",
     "text": [
      "CrescentAI的程序人生\n"
     ]
    }
   ],
   "source": [
    "teacher = \"CrescentAI的程序人生\"\n",
    "print(teacher)"
   ]
  },
  {
   "cell_type": "code",
   "execution_count": 13,
   "metadata": {},
   "outputs": [
    {
     "name": "stdout",
     "output_type": "stream",
     "text": [
      "5\n"
     ]
    }
   ],
   "source": [
    "first = 2\n",
    "second = 3\n",
    "third = first + second\n",
    "print(third)"
   ]
  },
  {
   "cell_type": "code",
   "execution_count": 14,
   "metadata": {},
   "outputs": [
    {
     "name": "stdout",
     "output_type": "stream",
     "text": [
      "3 2\n"
     ]
    }
   ],
   "source": [
    "first, second = second, first # 交换两个变量的赋值\n",
    "print(first, second)"
   ]
  },
  {
   "cell_type": "markdown",
   "metadata": {},
   "source": [
    "### 变量可以被重复赋值"
   ]
  },
  {
   "cell_type": "markdown",
   "metadata": {},
   "source": [
    "- Python是动态类型语言\n",
    "- 对同一个变量可以重复赋值,而且重新赋值的数据类型可以和最开始赋值的数据类型不同\n",
    "- 注意,由于对同一个变量可以重复赋值,所以在使用变量前,确定好变量的赋值内容\n",
    "- 变量可以被重复赋值的原因:变量赋值实际上是变量对值的一个引用,而不是变量的取值"
   ]
  },
  {
   "cell_type": "code",
   "execution_count": 15,
   "metadata": {},
   "outputs": [
    {
     "name": "stdout",
     "output_type": "stream",
     "text": [
      "CrescentAI的程序人生\n"
     ]
    }
   ],
   "source": [
    "print(teacher)"
   ]
  },
  {
   "cell_type": "code",
   "execution_count": 16,
   "metadata": {},
   "outputs": [
    {
     "name": "stdout",
     "output_type": "stream",
     "text": [
      "CrescentAI的程序人生\n"
     ]
    }
   ],
   "source": [
    "teacher = 'CrescentAI的程序人生'\n",
    "print(teacher)"
   ]
  },
  {
   "cell_type": "code",
   "execution_count": 17,
   "metadata": {},
   "outputs": [],
   "source": [
    "# 删除变量\n",
    "del teacher"
   ]
  },
  {
   "cell_type": "code",
   "execution_count": 18,
   "metadata": {},
   "outputs": [
    {
     "ename": "NameError",
     "evalue": "name 'teacher' is not defined",
     "output_type": "error",
     "traceback": [
      "\u001b[1;31m---------------------------------------------------------------------------\u001b[0m",
      "\u001b[1;31mNameError\u001b[0m                                 Traceback (most recent call last)",
      "\u001b[1;32m<ipython-input-18-ce874a457f1f>\u001b[0m in \u001b[0;36m<module>\u001b[1;34m\u001b[0m\n\u001b[1;32m----> 1\u001b[1;33m \u001b[0mprint\u001b[0m\u001b[1;33m(\u001b[0m\u001b[0mteacher\u001b[0m\u001b[1;33m)\u001b[0m\u001b[1;33m\u001b[0m\u001b[1;33m\u001b[0m\u001b[0m\n\u001b[0m",
      "\u001b[1;31mNameError\u001b[0m: name 'teacher' is not defined"
     ]
    }
   ],
   "source": [
    "print(teacher)"
   ]
  },
  {
   "cell_type": "markdown",
   "metadata": {},
   "source": [
    "### 变量命名规范"
   ]
  },
  {
   "cell_type": "markdown",
   "metadata": {},
   "source": [
    "- 变量名只能包含字母 数字和下划线\n",
    "- 变量名可以以字母和下划线开头,但不能以数字开头\n",
    "- Python中的关键字和函数名不可以作为变量名使用\n",
    "- 实际工作中,变量的命名尽量能体现变量的性质,例如:score_class5 这个变量名说明变量被赋值的是5班的成绩"
   ]
  },
  {
   "cell_type": "code",
   "execution_count": null,
   "metadata": {},
   "outputs": [],
   "source": [
    "6a = 7 #数字不可以做变量名的开头"
   ]
  },
  {
   "cell_type": "code",
   "execution_count": null,
   "metadata": {},
   "outputs": [],
   "source": [
    "_6a = 7 #下划线可以做为变量名的开头"
   ]
  },
  {
   "cell_type": "code",
   "execution_count": null,
   "metadata": {},
   "outputs": [],
   "source": [
    "True = 2  #关键字不能做变量名"
   ]
  },
  {
   "cell_type": "markdown",
   "metadata": {},
   "source": [
    "### 查看Python关键字"
   ]
  },
  {
   "cell_type": "code",
   "execution_count": 19,
   "metadata": {},
   "outputs": [
    {
     "data": {
      "text/plain": [
       "['False',\n",
       " 'None',\n",
       " 'True',\n",
       " 'and',\n",
       " 'as',\n",
       " 'assert',\n",
       " 'async',\n",
       " 'await',\n",
       " 'break',\n",
       " 'class',\n",
       " 'continue',\n",
       " 'def',\n",
       " 'del',\n",
       " 'elif',\n",
       " 'else',\n",
       " 'except',\n",
       " 'finally',\n",
       " 'for',\n",
       " 'from',\n",
       " 'global',\n",
       " 'if',\n",
       " 'import',\n",
       " 'in',\n",
       " 'is',\n",
       " 'lambda',\n",
       " 'nonlocal',\n",
       " 'not',\n",
       " 'or',\n",
       " 'pass',\n",
       " 'raise',\n",
       " 'return',\n",
       " 'try',\n",
       " 'while',\n",
       " 'with',\n",
       " 'yield']"
      ]
     },
     "execution_count": 19,
     "metadata": {},
     "output_type": "execute_result"
    }
   ],
   "source": [
    "import keyword\n",
    "keyword.kwlist # 这些关键字全部不能作为变量名使用"
   ]
  },
  {
   "cell_type": "markdown",
   "metadata": {},
   "source": [
    "## Python语句书写规范"
   ]
  },
  {
   "cell_type": "markdown",
   "metadata": {},
   "source": [
    "### Python语句中没有专门的\"结束符\"\n",
    "Python解释器不是根据\"结束符\"来判断语句是否结束,而是根据语法的完整性来判断\n",
    "\n",
    "### Python语句编写规则\n",
    "- 通常是一行一句\n",
    "- 也可以一行多句,用语句分隔符\";\"对两个语句进行标识\n",
    "- 也可以一句多行,有时候语句过长,一行放不下,用续行符\"\\\\\"进行标识"
   ]
  },
  {
   "cell_type": "code",
   "execution_count": 20,
   "metadata": {},
   "outputs": [
    {
     "name": "stdout",
     "output_type": "stream",
     "text": [
      "1 2 3\n"
     ]
    }
   ],
   "source": [
    "x1 = 1\n",
    "x2 = 2\n",
    "x3 = 3\n",
    "print(x1,x2,x3)"
   ]
  },
  {
   "cell_type": "code",
   "execution_count": 21,
   "metadata": {},
   "outputs": [
    {
     "name": "stdout",
     "output_type": "stream",
     "text": [
      "1 2 3\n"
     ]
    }
   ],
   "source": [
    "x1 = 1;x2 = 2;x3 = 3;print(x1,x2,x3)"
   ]
  },
  {
   "cell_type": "code",
   "execution_count": 22,
   "metadata": {},
   "outputs": [
    {
     "ename": "SyntaxError",
     "evalue": "invalid syntax (<ipython-input-22-fd94243c93b3>, line 1)",
     "output_type": "error",
     "traceback": [
      "\u001b[1;36m  File \u001b[1;32m\"<ipython-input-22-fd94243c93b3>\"\u001b[1;36m, line \u001b[1;32m1\u001b[0m\n\u001b[1;33m    x1 = 1  x2 = 2  x3 = 3  print(x1,x2,x3) #不加分号会报错\u001b[0m\n\u001b[1;37m            ^\u001b[0m\n\u001b[1;31mSyntaxError\u001b[0m\u001b[1;31m:\u001b[0m invalid syntax\n"
     ]
    }
   ],
   "source": [
    "x1 = 1  x2 = 2  x3 = 3  print(x1,x2,x3) #不加分号会报错"
   ]
  },
  {
   "cell_type": "code",
   "execution_count": 23,
   "metadata": {},
   "outputs": [
    {
     "name": "stdout",
     "output_type": "stream",
     "text": [
      "中心极限定理说明，在适当的条件下，大量相互独立随机变量的均值经适当标准化后依分布收敛于正态分布。这组定理是数理统计学和误差分析的理论基础，指出了大量随机变量之和近似服从正态分布的条件。\n"
     ]
    }
   ],
   "source": [
    "print(\"中心极限定理说明，在适当的条件下，大量相互独立随机变量的均值经适当标准化后依分布收敛于正态分布。这组定理是数理统计学和误差分析的理论基础，指出了大量随机变量之和近似服从正态分布的条件。\")"
   ]
  },
  {
   "cell_type": "code",
   "execution_count": 24,
   "metadata": {},
   "outputs": [
    {
     "ename": "SyntaxError",
     "evalue": "EOL while scanning string literal (<ipython-input-24-b2a91307aa68>, line 1)",
     "output_type": "error",
     "traceback": [
      "\u001b[1;36m  File \u001b[1;32m\"<ipython-input-24-b2a91307aa68>\"\u001b[1;36m, line \u001b[1;32m1\u001b[0m\n\u001b[1;33m    print(\"中心极限定理说明，在适当的条件下，大量相互独立随机变量的均值经适当标准化后依分布收敛于正态分布。\u001b[0m\n\u001b[1;37m                                                              ^\u001b[0m\n\u001b[1;31mSyntaxError\u001b[0m\u001b[1;31m:\u001b[0m EOL while scanning string literal\n"
     ]
    }
   ],
   "source": [
    "print(\"中心极限定理说明，在适当的条件下，大量相互独立随机变量的均值经适当标准化后依分布收敛于正态分布。   \n",
    "      这组定理是数理统计学和误差分析的理论基础，指出了大量随机变量之和近似服从正态分布的条件。\")  \n",
    "#不加续行符直接换行会报错"
   ]
  },
  {
   "cell_type": "code",
   "execution_count": 25,
   "metadata": {},
   "outputs": [
    {
     "name": "stdout",
     "output_type": "stream",
     "text": [
      "中心极限定理说明，在适当的条件下，大量相互独立随机变量的均值经适当标准化后依分布收敛于正态分布。      这组定理是数理统计学和误差分析的理论基础，指出了大量随机变量之和近似服从正态分布的条件。\n"
     ]
    }
   ],
   "source": [
    "print(\"中心极限定理说明，在适当的条件下，大量相互独立随机变量的均值经适当标准化后依分布收敛于正态分布。\\\n",
    "      这组定理是数理统计学和误差分析的理论基础，指出了大量随机变量之和近似服从正态分布的条件。\")"
   ]
  },
  {
   "cell_type": "code",
   "execution_count": 26,
   "metadata": {},
   "outputs": [
    {
     "name": "stdout",
     "output_type": "stream",
     "text": [
      "中心极限定理说明，在适当的条件下，大量相互独立随机变量的均值经适当标准化后依分布收敛于正态分布。\n",
      "      这组定理是数理统计学和误差分析的理论基础，指出了大量随机变量之和近似服从正态分布的条件。\n"
     ]
    }
   ],
   "source": [
    "print(\"\"\"中心极限定理说明，在适当的条件下，大量相互独立随机变量的均值经适当标准化后依分布收敛于正态分布。\n",
    "      这组定理是数理统计学和误差分析的理论基础，指出了大量随机变量之和近似服从正态分布的条件。\"\"\")  #多行文本也可以用三对引号实现换行"
   ]
  },
  {
   "cell_type": "markdown",
   "metadata": {},
   "source": [
    "### 重要的缩进\n",
    "- python语言最大特色是强制用空白符(white space)作为语句缩进,缩进开始之处,必须加冒号\":\"\n",
    "\n",
    "- 代码的缩进与对齐方式很重要,同一个层级的代码缩进方式应一致,即\"对齐\"\n",
    "\n",
    "- 一个模块的界限，完全是由每行的首字符在这一行的位置来决定的 （而C语言是用一对花括号{}来明确的定出模块的边界的，与字符的位置毫无关系)\n",
    "\n",
    "- 通过强制程序员们缩进（包括if，for和函数定义等所有需要使用模块的地方）， Python确实使得程序更加清晰和美观。"
   ]
  },
  {
   "cell_type": "code",
   "execution_count": 27,
   "metadata": {},
   "outputs": [
    {
     "name": "stdout",
     "output_type": "stream",
     "text": [
      "0 0\n",
      "1 1\n",
      "2 3\n",
      "3 6\n",
      "4 10\n"
     ]
    }
   ],
   "source": [
    "i = 0\n",
    "for j in range(5):\n",
    "    i = i+j\n",
    "    print(j,i)"
   ]
  },
  {
   "cell_type": "code",
   "execution_count": 28,
   "metadata": {},
   "outputs": [
    {
     "ename": "IndentationError",
     "evalue": "expected an indented block (<ipython-input-28-5e3238145dbb>, line 4)",
     "output_type": "error",
     "traceback": [
      "\u001b[1;36m  File \u001b[1;32m\"<ipython-input-28-5e3238145dbb>\"\u001b[1;36m, line \u001b[1;32m4\u001b[0m\n\u001b[1;33m    i = i+j\u001b[0m\n\u001b[1;37m    ^\u001b[0m\n\u001b[1;31mIndentationError\u001b[0m\u001b[1;31m:\u001b[0m expected an indented block\n"
     ]
    }
   ],
   "source": [
    "#去掉缩进会报错提醒需要缩进\n",
    "i = 0\n",
    "for j in range(10):\n",
    "i = i+j\n",
    "print(j,i)"
   ]
  },
  {
   "cell_type": "markdown",
   "metadata": {},
   "source": [
    "```python\n",
    "i = 0\n",
    "for j in range(10):\n",
    " i = i+j    #变量名显示红色,提示缩进位置不对\n",
    "print(j,i)```"
   ]
  },
  {
   "cell_type": "markdown",
   "metadata": {},
   "source": [
    "# 数据类型与转换"
   ]
  },
  {
   "cell_type": "markdown",
   "metadata": {},
   "source": [
    "**数据类型分类**\n",
    "\n",
    "python中常用的数据类型有\n",
    "- 数字(Numbers) : 整数, 浮点数, 复数\n",
    "- 布尔(Booleans) : True和False\n",
    "- 字符串(Strings) : Uniconde字符序列, 在引号内包含\n",
    "- 列表(list) : 有序的值的序列\n",
    "- 元组(Tuples) : 有序的值的序列且不可改变\n",
    "- 字典(Dictionaries) : 无序的键值对的组合\n",
    "- 集合(Sets) : 无序的不含重复值的序列"
   ]
  },
  {
   "cell_type": "markdown",
   "metadata": {},
   "source": [
    "|数据类型|关键字|标志性符号|是否可变(允许局部替换)|是否为序列(支持序列操作)|强制类型转换函数|\n",
    "|-------|-----|---------|---------------------|-----------------------|---------------|\n",
    "|整数|int|无|否|否|int()|\n",
    "|浮点型|float|小数点|否|否|float()|\n",
    "|复数|complex|+/j|否|否|complex()|\n",
    "|布尔|bool|True/False|否|否|bool()|\n",
    "|字符(串)|str|单引号 ''  或 双引号  \"\"|否|是|str()|\n",
    "|列表|list|方括号 []|是|是|list()|\n",
    "|元组|tuple|圆括号 ()和逗号 ,|否|是|tuple()|\n",
    "|集合|set|花括号 {}|是|否|set()|\n",
    "|字典|dict|花括号 {}和key|是|否|dict()|"
   ]
  },
  {
   "cell_type": "markdown",
   "metadata": {},
   "source": [
    "## 查看数据类型"
   ]
  },
  {
   "cell_type": "markdown",
   "metadata": {},
   "source": [
    "### 获取类型信息 `type(object)`"
   ]
  },
  {
   "cell_type": "code",
   "execution_count": 29,
   "metadata": {},
   "outputs": [
    {
     "name": "stdout",
     "output_type": "stream",
     "text": [
      "<class 'int'>\n"
     ]
    }
   ],
   "source": [
    "print(type(1))"
   ]
  },
  {
   "cell_type": "code",
   "execution_count": 30,
   "metadata": {},
   "outputs": [
    {
     "name": "stdout",
     "output_type": "stream",
     "text": [
      "<class 'float'>\n"
     ]
    }
   ],
   "source": [
    "print(type(5.2))"
   ]
  },
  {
   "cell_type": "code",
   "execution_count": 31,
   "metadata": {},
   "outputs": [
    {
     "name": "stdout",
     "output_type": "stream",
     "text": [
      "<class 'bool'>\n"
     ]
    }
   ],
   "source": [
    "print(type(True))"
   ]
  },
  {
   "cell_type": "code",
   "execution_count": 32,
   "metadata": {},
   "outputs": [
    {
     "name": "stdout",
     "output_type": "stream",
     "text": [
      "<class 'str'>\n"
     ]
    }
   ],
   "source": [
    "print(type('5.2'))"
   ]
  },
  {
   "cell_type": "markdown",
   "metadata": {},
   "source": [
    "### 获取类型信息 `isinstance(object, classinfo)`"
   ]
  },
  {
   "cell_type": "code",
   "execution_count": 33,
   "metadata": {},
   "outputs": [
    {
     "name": "stdout",
     "output_type": "stream",
     "text": [
      "True\n"
     ]
    }
   ],
   "source": [
    "print(isinstance(1, int))"
   ]
  },
  {
   "cell_type": "code",
   "execution_count": 34,
   "metadata": {},
   "outputs": [
    {
     "name": "stdout",
     "output_type": "stream",
     "text": [
      "True\n"
     ]
    }
   ],
   "source": [
    "print(isinstance(5.2, float))"
   ]
  },
  {
   "cell_type": "code",
   "execution_count": 35,
   "metadata": {},
   "outputs": [
    {
     "name": "stdout",
     "output_type": "stream",
     "text": [
      "True\n"
     ]
    }
   ],
   "source": [
    "print(isinstance(True, bool))"
   ]
  },
  {
   "cell_type": "code",
   "execution_count": 36,
   "metadata": {},
   "outputs": [
    {
     "name": "stdout",
     "output_type": "stream",
     "text": [
      "True\n"
     ]
    }
   ],
   "source": [
    "print(isinstance('5.2', str))"
   ]
  },
  {
   "cell_type": "markdown",
   "metadata": {},
   "source": [
    "注：\n",
    "- `type()` 不会认为子类是一种父类类型，不考虑继承关系。\n",
    "- `isinstance()` 会认为子类是一种父类类型，考虑继承关系。\n",
    "\n",
    "如果要判断两个类型是否相同推荐使用 `isinstance()`。"
   ]
  },
  {
   "cell_type": "markdown",
   "metadata": {},
   "source": [
    "## 类型转换"
   ]
  },
  {
   "cell_type": "markdown",
   "metadata": {},
   "source": [
    "- 转换为整型 `int(x, base=10)`\n",
    "- 转换为字符串 `str(object='')`\n",
    "- 转换为浮点型 `float(x)`"
   ]
  },
  {
   "cell_type": "code",
   "execution_count": 37,
   "metadata": {},
   "outputs": [],
   "source": [
    "a = 1"
   ]
  },
  {
   "cell_type": "code",
   "execution_count": 38,
   "metadata": {},
   "outputs": [
    {
     "data": {
      "text/plain": [
       "int"
      ]
     },
     "execution_count": 38,
     "metadata": {},
     "output_type": "execute_result"
    }
   ],
   "source": [
    "type(a)"
   ]
  },
  {
   "cell_type": "code",
   "execution_count": 39,
   "metadata": {},
   "outputs": [
    {
     "data": {
      "text/plain": [
       "'1'"
      ]
     },
     "execution_count": 39,
     "metadata": {},
     "output_type": "execute_result"
    }
   ],
   "source": [
    "str(a) #返回视图"
   ]
  },
  {
   "cell_type": "code",
   "execution_count": 40,
   "metadata": {},
   "outputs": [
    {
     "data": {
      "text/plain": [
       "'1'"
      ]
     },
     "execution_count": 40,
     "metadata": {},
     "output_type": "execute_result"
    }
   ],
   "source": [
    "b = str(a)\n",
    "b"
   ]
  },
  {
   "cell_type": "code",
   "execution_count": 41,
   "metadata": {},
   "outputs": [
    {
     "data": {
      "text/plain": [
       "str"
      ]
     },
     "execution_count": 41,
     "metadata": {},
     "output_type": "execute_result"
    }
   ],
   "source": [
    "type(b)"
   ]
  },
  {
   "cell_type": "markdown",
   "metadata": {},
   "source": [
    "# 运算符"
   ]
  },
  {
   "cell_type": "markdown",
   "metadata": {},
   "source": [
    "## 算数运算符"
   ]
  },
  {
   "cell_type": "markdown",
   "metadata": {},
   "source": [
    "下面以a=10 ,b=20为例进行计算\n",
    "\n",
    "| 运算符 | 描述   | 示例                                                         |\n",
    "| ------ | ------ | ------------------------------------------------------------ |\n",
    "| +      | 加     | 两个对象相加 a + b 输出结果 30                               |\n",
    "| -      | 减     | 得到负数或是一个数减去另一个数 a - b 输出结果 -10            |\n",
    "| *      | 乘     | 两个数相乘或是返回一个被重复若干次的字符串 a * b 输出结果 200 |\n",
    "| /      | 除     | x除以y b / a 输出结果 2                                      |\n",
    "| //     | 取整除 | 返回商的整数部分 9//2 输出结果 4 , 9.0//2.0 输出结果 4.0     |\n",
    "| %      | 取余   | 返回除法的余数 b % a 输出结果 0                              |\n",
    "| **     | 幂     | 返回x的y次幂 a**b 为10的20次方， 输出结果 100000000000000000000 |"
   ]
  },
  {
   "cell_type": "markdown",
   "metadata": {},
   "source": [
    "## 关系运算符"
   ]
  },
  {
   "cell_type": "markdown",
   "metadata": {},
   "source": [
    " | 运算符 | 描述                                                         | 示例                                              |\n",
    "  | ------ | ------------------------------------------------------------ | ------------------------------------------------- |\n",
    "  | ==     | 检查两个操作数的值是否相等,如果是则条件变为真             | 如a=3,b=3则（a == b) 为 true                     |\n",
    "  | !=     | 检查两个操作数的值是否相等,如果值不相等,则条件变为真     | 如a=1,b=3则(a != b) 为 true                      |\n",
    "  | >      | 检查左操作数的值是否大于右操作数的值,如果是,则条件成立   | 如a=7,b=3则(a > b) 为 true                       |\n",
    "  | <      | 检查左操作数的值是否小于右操作数的值,如果是,则条件成立   | 如a=7,b=3则(a < b) 为 false                      |\n",
    "  | >=     | 检查左操作数的值是否大于或等于右操作数的值,如果是,则条件成立 | 如a=3,b=3则(a >= b) 为 true                      |\n",
    "  | <=     | 检查左操作数的值是否小于或等于右操作数的值,如果是,则条件成立 | 如a=3,b=3则(a <= b) 为 true   "
   ]
  },
  {
   "cell_type": "markdown",
   "metadata": {},
   "source": [
    "## 赋值运算符"
   ]
  },
  {
   "cell_type": "markdown",
   "metadata": {},
   "source": [
    "| 运算符 | 描述             | 实例                      |\n",
    "| ------ | ---------------- | ------------------------- |\n",
    "| +=     | 加法赋值运算符   | c += a 等效于 c = c + a   |\n",
    "| -=     | 减法赋值运算符   | c -= a 等效于 c = c - a   |\n",
    "| *=     | 乘法赋值运算符   | c *= a 等效于 c = c * a   |\n",
    "| /=     | 除法赋值运算符   | c /= a 等效于 c = c / a   |\n",
    "| %=     | 取模赋值运算符   | c %= a 等效于 c = c % a   |\n",
    "| **=    | 幂赋值运算符     | c  **  = a 等效于 c = c ** a |\n",
    "| //=    | 取整除赋值运算符 | c //= a 等效于 c = c // a |"
   ]
  },
  {
   "cell_type": "code",
   "execution_count": 42,
   "metadata": {},
   "outputs": [
    {
     "data": {
      "text/plain": [
       "9"
      ]
     },
     "execution_count": 42,
     "metadata": {},
     "output_type": "execute_result"
    }
   ],
   "source": [
    "k = 5\n",
    "j = 4\n",
    "j += k  #等价于j = j+k\n",
    "j"
   ]
  },
  {
   "cell_type": "markdown",
   "metadata": {},
   "source": [
    "## 逻辑运算符"
   ]
  },
  {
   "cell_type": "markdown",
   "metadata": {},
   "source": [
    "  |运算符|逻辑表达式|描述|             \n",
    "  |------|----------|----|\n",
    "  | and    | x and y    | 布尔\"与\" - 如果 x 为 False，x and y 返回 False，否则它返回 y 的计算值。 | \n",
    "  | or     | x or y     | 布尔\"或\" - 如果 x 是 True，它返回 True，否则它返回 y 的计算值。 |      \n",
    "  | not    | not x      | 布尔\"非\" - 如果 x 为 True，返回 False 。如果 x 为 False，它返回 True。 | "
   ]
  },
  {
   "cell_type": "code",
   "execution_count": 43,
   "metadata": {},
   "outputs": [
    {
     "data": {
      "text/plain": [
       "True"
      ]
     },
     "execution_count": 43,
     "metadata": {},
     "output_type": "execute_result"
    }
   ],
   "source": [
    "3 > 2 and 3 < 5"
   ]
  },
  {
   "cell_type": "code",
   "execution_count": 44,
   "metadata": {},
   "outputs": [
    {
     "data": {
      "text/plain": [
       "False"
      ]
     },
     "execution_count": 44,
     "metadata": {},
     "output_type": "execute_result"
    }
   ],
   "source": [
    "1 > 3 and 2 < 1"
   ]
  },
  {
   "cell_type": "code",
   "execution_count": 45,
   "metadata": {
    "scrolled": true
   },
   "outputs": [
    {
     "data": {
      "text/plain": [
       "True"
      ]
     },
     "execution_count": 45,
     "metadata": {},
     "output_type": "execute_result"
    }
   ],
   "source": [
    "1 > 3 or 3 < 5"
   ]
  },
  {
   "cell_type": "markdown",
   "metadata": {},
   "source": [
    "## 位运算符"
   ]
  },
  {
   "cell_type": "markdown",
   "metadata": {},
   "source": [
    "操作符 | 名称 | 示例\n",
    ":---:|:---:|:---:\n",
    "`~` |按位取反运算符：对数据的每个二进制位取反,即把1变为0,把0变为1 。`~x` 类似于 `-x-1`|(~a ) 输出结果 -61\n",
    "`&` |按位与运算符：参与运算的两个值,如果两个相应位都为1,则该位的结果为1,否则为0  |(a & b) 输出结果12\n",
    "`\\|` |按位或运算符：只要对应的二个二进位有一个为1时，结果位就为1  |(a | b) 输出结果61\n",
    "`^` |按位异或运算符：当两对应的二进位相异时，结果为1|(a ^ b) 输出结果49\n",
    "`<<`|左移动运算符：运算数的各二进位全部左移若干位，由`<<`右边的数字指定了移动的位数，高位丢弃，低位补0|a << 2 输出结果 240\n",
    "`>>`|右移动运算符：把`>>`左边的运算数的各二进位全部右移若干位，>> 右边的数字指定了移动的位数|a >> 2 输出结果 15 "
   ]
  },
  {
   "cell_type": "markdown",
   "metadata": {},
   "source": [
    "### 原码、反码和补码"
   ]
  },
  {
   "cell_type": "markdown",
   "metadata": {},
   "source": [
    "二进制有三种不同的表示形式：原码、反码和补码，计算机内部使用补码来表示。"
   ]
  },
  {
   "cell_type": "markdown",
   "metadata": {},
   "source": [
    "**原码：**就是其二进制表示（注意，第一位是符号位,其余位表示值）"
   ]
  },
  {
   "cell_type": "markdown",
   "metadata": {},
   "source": [
    "```\n",
    "0000 0011 = 3\n",
    "1000 0011 = -3\n",
    "```"
   ]
  },
  {
   "cell_type": "markdown",
   "metadata": {},
   "source": [
    "**反码：**正数的反码就是原码，负数的反码是符号位不变，其余位取反（对应正数按位取反）"
   ]
  },
  {
   "cell_type": "markdown",
   "metadata": {},
   "source": [
    "```\n",
    "0000 0011 = 3\n",
    "1111 1100 = -3\n",
    "```"
   ]
  },
  {
   "cell_type": "markdown",
   "metadata": {},
   "source": [
    "**补码：**正数的补码就是原码，负数的补码是反码+1"
   ]
  },
  {
   "cell_type": "markdown",
   "metadata": {},
   "source": [
    "```\n",
    "0000 0011 = 3\n",
    "1111 1101 = -3\n",
    "```"
   ]
  },
  {
   "cell_type": "markdown",
   "metadata": {},
   "source": [
    "**符号位：**最高位为符号位，0表示正数，1表示负数。在位运算中符号位也参与运算"
   ]
  },
  {
   "cell_type": "markdown",
   "metadata": {},
   "source": [
    "### 按位非操作 ~"
   ]
  },
  {
   "cell_type": "markdown",
   "metadata": {},
   "source": [
    "```\n",
    "~1 = 0\n",
    "~0 = 1\n",
    "```"
   ]
  },
  {
   "cell_type": "markdown",
   "metadata": {},
   "source": [
    "`~`把`num`的补码中的 0 和 1 全部取反（0 变为 1，1 变为 0）有符号整数的符号位在`~` 运算中同样会取反"
   ]
  },
  {
   "cell_type": "markdown",
   "metadata": {},
   "source": [
    "```\n",
    " 0000 0101 = 5\n",
    "~1111 1010 = -6\n",
    "```"
   ]
  },
  {
   "cell_type": "markdown",
   "metadata": {},
   "source": [
    "```\n",
    " 1111 1011 = -5\n",
    "~0000 0100 = 4 \n",
    "```"
   ]
  },
  {
   "cell_type": "markdown",
   "metadata": {},
   "source": [
    "### 按位与操作 &"
   ]
  },
  {
   "cell_type": "markdown",
   "metadata": {},
   "source": [
    "```\n",
    "1 & 1 = 1\n",
    "1 & 0 = 0\n",
    "0 & 1 = 0\n",
    "0 & 0 = 0\n",
    "```"
   ]
  },
  {
   "cell_type": "markdown",
   "metadata": {},
   "source": [
    "只有两个对应位都为`1`时才为 1"
   ]
  },
  {
   "cell_type": "code",
   "execution_count": 46,
   "metadata": {},
   "outputs": [
    {
     "data": {
      "text/plain": [
       "4"
      ]
     },
     "execution_count": 46,
     "metadata": {},
     "output_type": "execute_result"
    }
   ],
   "source": [
    "\"\"\"\n",
    "0000 0101 & 0000 0110\n",
    "5 & 6\n",
    "\n",
    "即\n",
    "\n",
    "0000 0100\n",
    "4\n",
    "\"\"\"\n",
    "\n",
    "5 & 6"
   ]
  },
  {
   "cell_type": "markdown",
   "metadata": {},
   "source": [
    "### 按位或操作 |"
   ]
  },
  {
   "cell_type": "markdown",
   "metadata": {},
   "source": [
    "```\n",
    "1 | 1 = 1\n",
    "1 | 0 = 1\n",
    "0 | 1 = 1\n",
    "0 | 0 = 0\n",
    "```"
   ]
  },
  {
   "cell_type": "markdown",
   "metadata": {},
   "source": [
    "只要两个对应位中有一个`1`时就为 1"
   ]
  },
  {
   "cell_type": "code",
   "execution_count": 47,
   "metadata": {},
   "outputs": [
    {
     "data": {
      "text/plain": [
       "7"
      ]
     },
     "execution_count": 47,
     "metadata": {},
     "output_type": "execute_result"
    }
   ],
   "source": [
    "\"\"\"\n",
    "0000 0101 | 0000 0110\n",
    "5 | 6\n",
    "\n",
    "即\n",
    "\n",
    "0000 0111\n",
    "7\n",
    "\"\"\"\n",
    "\n",
    "5 | 6"
   ]
  },
  {
   "cell_type": "markdown",
   "metadata": {},
   "source": [
    "### 按位异或操作 ^"
   ]
  },
  {
   "cell_type": "markdown",
   "metadata": {},
   "source": [
    "```\n",
    "1 ^ 1 = 0\n",
    "1 ^ 0 = 1\n",
    "0 ^ 1 = 1\n",
    "0 ^ 0 = 0\n",
    "```"
   ]
  },
  {
   "cell_type": "markdown",
   "metadata": {},
   "source": [
    "只有两个对应位不同时才为`1`"
   ]
  },
  {
   "cell_type": "code",
   "execution_count": 48,
   "metadata": {},
   "outputs": [
    {
     "data": {
      "text/plain": [
       "3"
      ]
     },
     "execution_count": 48,
     "metadata": {},
     "output_type": "execute_result"
    }
   ],
   "source": [
    "\"\"\"\n",
    "0000 0101 ^ 0000 0110\n",
    "5 ^ 6\n",
    "\n",
    "即\n",
    "\n",
    "0000 0011\n",
    "3\n",
    "\"\"\"\n",
    "\n",
    "5 ^ 6"
   ]
  },
  {
   "cell_type": "markdown",
   "metadata": {},
   "source": [
    "异或操作的性质：满足交换律和结合律"
   ]
  },
  {
   "cell_type": "markdown",
   "metadata": {},
   "source": [
    "```\n",
    "A = 0000 1100\n",
    "B = 0000 0111\n",
    "\n",
    "A ^ B = 0000 1011\n",
    "B ^ A = 0000 1011\n",
    "\n",
    "A ^ A = 0000 0000\n",
    "A ^ 0 = 0000 1100\n",
    "\n",
    "A ^ B ^ A = A ^ A ^ B = B = 0000 0111\n",
    "```"
   ]
  },
  {
   "cell_type": "markdown",
   "metadata": {},
   "source": [
    "### 按位左移操作 <<"
   ]
  },
  {
   "cell_type": "markdown",
   "metadata": {},
   "source": [
    "`num << i` 将`num`的二进制表示向左移动`i`位所得的值"
   ]
  },
  {
   "cell_type": "code",
   "execution_count": 49,
   "metadata": {},
   "outputs": [
    {
     "data": {
      "text/plain": [
       "88"
      ]
     },
     "execution_count": 49,
     "metadata": {},
     "output_type": "execute_result"
    }
   ],
   "source": [
    "\"\"\"\n",
    "0000 1011 = 11\n",
    "11 << 3\n",
    "\n",
    "即\n",
    "0101 1000\n",
    "88\n",
    "\"\"\"\n",
    "\n",
    "11 << 3"
   ]
  },
  {
   "cell_type": "markdown",
   "metadata": {},
   "source": [
    "### 按位右移操作 >>"
   ]
  },
  {
   "cell_type": "markdown",
   "metadata": {},
   "source": [
    "`num >> i` 将`num`的二进制表示向右移动`i`位所得的值"
   ]
  },
  {
   "cell_type": "code",
   "execution_count": 50,
   "metadata": {},
   "outputs": [
    {
     "data": {
      "text/plain": [
       "2"
      ]
     },
     "execution_count": 50,
     "metadata": {},
     "output_type": "execute_result"
    }
   ],
   "source": [
    "\"\"\"\n",
    "0000 1011 = 11\n",
    "11 >> 2\n",
    "\n",
    "即\n",
    "0000 0010\n",
    "2\n",
    "\"\"\"\n",
    "\n",
    "11 >> 2"
   ]
  },
  {
   "cell_type": "markdown",
   "metadata": {},
   "source": [
    "### 利用位运算实现快速计算"
   ]
  },
  {
   "cell_type": "markdown",
   "metadata": {},
   "source": [
    "通过 ` <<`，`>>` 快速计算2的倍数问题"
   ]
  },
  {
   "cell_type": "markdown",
   "metadata": {},
   "source": [
    "```\n",
    "n << 1 -> 计算 n*2\n",
    "n >> 1 -> 计算 n/2，负奇数的运算不可用\n",
    "n << m -> 计算 n*(2^m)，即乘以 2 的 m 次方\n",
    "n >> m -> 计算 n/(2^m)，即除以 2 的 m 次方\n",
    "1 << n -> 2^n\n",
    "```"
   ]
  },
  {
   "cell_type": "markdown",
   "metadata": {},
   "source": [
    "通过 `^` 快速交换两个整数"
   ]
  },
  {
   "cell_type": "markdown",
   "metadata": {},
   "source": [
    "```\n",
    "a ^= b\n",
    "b ^= a\n",
    "a ^= b\n",
    "```"
   ]
  },
  {
   "cell_type": "markdown",
   "metadata": {},
   "source": [
    "通过 `a & (-a)` 快速获取 `a` 的最后为 1 位置的整数"
   ]
  },
  {
   "cell_type": "code",
   "execution_count": 51,
   "metadata": {},
   "outputs": [
    {
     "data": {
      "text/plain": [
       "1"
      ]
     },
     "execution_count": 51,
     "metadata": {},
     "output_type": "execute_result"
    }
   ],
   "source": [
    "\"\"\"\n",
    "0000 0101 & 1111 1011\n",
    "5 & -5\n",
    "\n",
    "即\n",
    "\n",
    "0000 0001\n",
    "1\n",
    "\"\"\"\n",
    "5 & -5"
   ]
  },
  {
   "cell_type": "code",
   "execution_count": 52,
   "metadata": {},
   "outputs": [
    {
     "data": {
      "text/plain": [
       "2"
      ]
     },
     "execution_count": 52,
     "metadata": {},
     "output_type": "execute_result"
    }
   ],
   "source": [
    "\"\"\"\n",
    "0000 1110 & 1111 0010\n",
    "14 & -14\n",
    "\n",
    "即\n",
    "\n",
    "0000 0010\n",
    "2\n",
    "\"\"\"\n",
    "\n",
    "14 & -14"
   ]
  },
  {
   "cell_type": "markdown",
   "metadata": {},
   "source": [
    "### 利用位运算实现整数集合"
   ]
  },
  {
   "cell_type": "markdown",
   "metadata": {},
   "source": [
    "一个数的二进制表示可以看作是一个集合（0 表示不在集合中，1 表示在集合中）。\n",
    "\n",
    "比如集合 `{1, 3, 4, 8}`，可以表示成 `01 00 01 10 10` 而对应的位运算也就可以看作是对集合进行的操作。"
   ]
  },
  {
   "cell_type": "markdown",
   "metadata": {},
   "source": [
    "#### 元素与集合的操作："
   ]
  },
  {
   "cell_type": "markdown",
   "metadata": {},
   "source": [
    "```\n",
    "a | (1<<i)  -> 把 i 插入到集合中\n",
    "a & ~(1<<i) -> 把 i 从集合中删除\n",
    "a & (1<<i)  -> 判断 i 是否属于该集合（零不属于，非零属于）\n",
    "```"
   ]
  },
  {
   "cell_type": "markdown",
   "metadata": {},
   "source": [
    "#### 集合之间的操作"
   ]
  },
  {
   "cell_type": "markdown",
   "metadata": {},
   "source": [
    "```\n",
    "a 补   -> ~a\n",
    "a 交 b -> a & b\n",
    "a 并 b -> a | b\n",
    "a 差 b -> a & (~b)\n",
    "```"
   ]
  },
  {
   "cell_type": "markdown",
   "metadata": {},
   "source": [
    "**注意：**整数在内存中是以补码的形式存在的，输出自然也是按照补码输出"
   ]
  },
  {
   "cell_type": "markdown",
   "metadata": {},
   "source": [
    "**【例子】**Python中的`bin()`输出"
   ]
  },
  {
   "cell_type": "code",
   "execution_count": 53,
   "metadata": {},
   "outputs": [
    {
     "data": {
      "text/plain": [
       "'0b11'"
      ]
     },
     "execution_count": 53,
     "metadata": {},
     "output_type": "execute_result"
    }
   ],
   "source": [
    "bin(3)"
   ]
  },
  {
   "cell_type": "code",
   "execution_count": 54,
   "metadata": {},
   "outputs": [
    {
     "data": {
      "text/plain": [
       "'-0b11'"
      ]
     },
     "execution_count": 54,
     "metadata": {},
     "output_type": "execute_result"
    }
   ],
   "source": [
    "bin(-3)"
   ]
  },
  {
   "cell_type": "code",
   "execution_count": 55,
   "metadata": {},
   "outputs": [
    {
     "data": {
      "text/plain": [
       "'0b11111111111111111111111111111101'"
      ]
     },
     "execution_count": 55,
     "metadata": {},
     "output_type": "execute_result"
    }
   ],
   "source": [
    "bin(-3 & 0xffffffff)"
   ]
  },
  {
   "cell_type": "code",
   "execution_count": 56,
   "metadata": {},
   "outputs": [
    {
     "data": {
      "text/plain": [
       "'0b11111111111111111111111111111101'"
      ]
     },
     "execution_count": 56,
     "metadata": {},
     "output_type": "execute_result"
    }
   ],
   "source": [
    "bin(0xfffffffd)"
   ]
  },
  {
   "cell_type": "code",
   "execution_count": 57,
   "metadata": {},
   "outputs": [
    {
     "data": {
      "text/plain": [
       "4294967293"
      ]
     },
     "execution_count": 57,
     "metadata": {},
     "output_type": "execute_result"
    }
   ],
   "source": [
    "0xfffffffd"
   ]
  },
  {
   "cell_type": "markdown",
   "metadata": {},
   "source": [
    "是不是很颠覆认知，我们从结果可以看出：\n",
    "\n",
    "- Python中`bin`一个负数（十进制表示），输出的是它的原码的二进制表示加上个负号，巨坑。\n",
    "- Python中的整型是补码形式存储的。\n",
    "- Python中整型是不限制长度的不会超范围溢出。\n",
    "\n",
    "所以为了获得负数（十进制表示）的补码，需要手动将其和十六进制数`0xffffffff`进行按位与操作，再交给`bin()`进行输出，得到的才是负数的补码表示。"
   ]
  },
  {
   "cell_type": "markdown",
   "metadata": {},
   "source": [
    "## 其它运算符"
   ]
  },
  {
   "cell_type": "markdown",
   "metadata": {},
   "source": [
    "操作符|描述|示例\n",
    "---|---|---\n",
    "is|判断两个标识符是不是引用自一个对象|x is y,如果引用的是同一个对象则返回 True，否则返回 False\n",
    "is not|判断两个标识符是不是引用自不同对象|x is not y,如果引用的不是同一个对象则返回结果 True，否则返回 False\n",
    "in|如果在指定的序列中找到值返回 True,否则返回 False|x 在 y 序列中,如果 x 在 y 序列中返回 True\n",
    "not in|如果在指定的序列中没有找到值返回 True,否则返回 False|x 不在 y 序列中,如果 x 不在 y 序列中返回 True"
   ]
  },
  {
   "cell_type": "code",
   "execution_count": 58,
   "metadata": {},
   "outputs": [
    {
     "name": "stdout",
     "output_type": "stream",
     "text": [
      "A exists\n",
      "h not exists\n"
     ]
    }
   ],
   "source": [
    "letters = ['A', 'B', 'C', 'D', 'E', 'F', 'G']\n",
    "\n",
    "if 'A' in letters:\n",
    "    print('A' + ' exists')\n",
    "\n",
    "if 'h' not in letters:\n",
    "    print('h' + ' not exists')"
   ]
  },
  {
   "cell_type": "code",
   "execution_count": 59,
   "metadata": {},
   "outputs": [
    {
     "name": "stdout",
     "output_type": "stream",
     "text": [
      "True True\n"
     ]
    }
   ],
   "source": [
    "#比较两个变量均指向不可变类型\n",
    "a = \"hello\"\n",
    "b = \"hello\"\n",
    "print(a is b, a == b)"
   ]
  },
  {
   "cell_type": "code",
   "execution_count": 60,
   "metadata": {},
   "outputs": [
    {
     "name": "stdout",
     "output_type": "stream",
     "text": [
      "False True\n"
     ]
    }
   ],
   "source": [
    "#比较两个变量均指向可变类型\n",
    "a = [\"hello\"]\n",
    "b = [\"hello\"]\n",
    "print(a is b, a == b)"
   ]
  },
  {
   "cell_type": "markdown",
   "metadata": {},
   "source": [
    "注意：\n",
    "- is, is not 对比的是两个变量的内存地址\n",
    "- ==, != 对比的是两个变量的值\n",
    "\n",
    "即:\n",
    "- 比较的两个变量，指向的都是地址不可变的类型（str等），那么is，is not 和 ==，！= 是完全等价的。\n",
    "- 对比的两个变量，指向的是地址可变的类型（list，dict，tuple等），则两者是有区别的。\n",
    "\n",
    "运算符的优先级\n",
    "\n",
    "- 一元运算符优于二元运算符。例如`3 ** -2`等价于`3 ** (-2)`。\n",
    "- 先算术运算，后移位运算，最后位运算。例如 `1 << 3 + 2 & 7`等价于 `1 << (3 + 2)) & 7`。\n",
    "- 逻辑运算最后结合。"
   ]
  },
  {
   "cell_type": "markdown",
   "metadata": {},
   "source": [
    " ## python内置的一些计算函数:\n",
    "\n",
    "|函数名|函数作用|\n",
    "|----|-----|\n",
    "| abs(x)|返回x的绝对值，类型随x|\n",
    "| pow(x,n)|返回x的n次方|\n",
    "| max(n1, n2, ...)|返回最大值|\n",
    "| min(n1, n2, ...)|返回最小值|\n",
    "| round(x [,n])|默认返回浮点数x的四舍五入值,遇0.5取偶|\n",
    "\n",
    "------\n",
    "\n",
    "python还提供科学计算等库，例如math，导入math库后，常用的函数有：\n",
    "\n",
    "|函数名|函数作用|\n",
    "|----|-----|\n",
    "| fabs(x)|返回x的绝对值，类型是浮点数|\n",
    "|ceil(x)|取x的上入整数，如math.ceil(4.1)返回5|\n",
    "| floor(x)|取x的下入整数，如math.floor(4.9)返回4|\n",
    "| exp(x)|返回e的x次幂，e是自然常数|\n",
    "| sqrt(x)|返回x的平方根，返回值是float类型|\n",
    "| modf(x)|返回x的整数部分和小数部分，两部分的符号与x相同，整数部分以浮点型表示。例如math.modf(4.333)，返回元组(0.3330000000000002, 4.0)|\n",
    "|log10(x)|返回以10为基数的x的对数，返回值类型是浮点数|\n",
    "| log(x,y)|返回以y为基数的x的对数，返回值类型是浮点数|"
   ]
  },
  {
   "cell_type": "markdown",
   "metadata": {},
   "source": [
    "# 参考文献:"
   ]
  },
  {
   "cell_type": "markdown",
   "metadata": {},
   "source": [
    "- Datawhale https://github.com/datawhalechina/team-learning\n",
    "- https://www.runoob.com/python3/python3-tutorial.html\n",
    "- https://www.bilibili.com/video/av4050443\n",
    "- https://mp.weixin.qq.com/s/DZ589xEbOQ2QLtiq8mP1qQ\n",
    "- https://www.cnblogs.com/OliverQin/p/7781019.html\n"
   ]
  },
  {
   "cell_type": "markdown",
   "metadata": {},
   "source": [
    "# 练习题"
   ]
  },
  {
   "cell_type": "markdown",
   "metadata": {},
   "source": [
    "## 怎样对python中的代码进行注释？"
   ]
  },
  {
   "cell_type": "markdown",
   "metadata": {},
   "source": [
    "- 单行注释"
   ]
  },
  {
   "cell_type": "code",
   "execution_count": 61,
   "metadata": {},
   "outputs": [
    {
     "data": {
      "text/plain": [
       "'Welcome to the beautiful world'"
      ]
     },
     "execution_count": 61,
     "metadata": {},
     "output_type": "execute_result"
    }
   ],
   "source": [
    "# 定义一个字符串\n",
    "a = 'Welcome to the beautiful world'\n",
    "a"
   ]
  },
  {
   "cell_type": "markdown",
   "metadata": {},
   "source": [
    "- 多行注释"
   ]
  },
  {
   "cell_type": "code",
   "execution_count": 62,
   "metadata": {},
   "outputs": [
    {
     "name": "stdout",
     "output_type": "stream",
     "text": [
      "Welcome to the china\n"
     ]
    }
   ],
   "source": [
    "'''\n",
    "这是多行注释，用三个单引号,打印:Welcome\n",
    "这是多行注释，用三个单引号,打印:to\n",
    "这是多行注释，用三个单引号,打印:the\n",
    "这是多行注释，用三个单引号,打印:china\n",
    "连成一句话\n",
    "'''\n",
    "print('Welcome to the china')"
   ]
  },
  {
   "cell_type": "code",
   "execution_count": 63,
   "metadata": {},
   "outputs": [
    {
     "name": "stdout",
     "output_type": "stream",
     "text": [
      "小明:Hello\n",
      "大明:Hi\n",
      "小明:大明,this is 中明\n",
      "中明:Nice to me you\n",
      "大明:Nice to me you too\n"
     ]
    }
   ],
   "source": [
    "\"\"\"\n",
    "这是多行注释，用三个双引号\n",
    "这是多行注释，用三个双引号\n",
    "打印一段小明与大明的对话\n",
    "\"\"\"\n",
    "print('小明:Hello')\n",
    "print('大明:Hi')\n",
    "print('小明:大明,this is 中明')\n",
    "print('中明:Nice to me you')\n",
    "print('大明:Nice to me you too')"
   ]
  },
  {
   "cell_type": "markdown",
   "metadata": {},
   "source": [
    "## python有哪些运算符，这些运算符的优先级是怎样的？"
   ]
  },
  {
   "cell_type": "markdown",
   "metadata": {},
   "source": [
    "以下表格列出了从最高到最低优先级的所有运算符:\n",
    "\n",
    "运算符|描述\n",
    "---|---\n",
    "**|指数(最高优先级)\n",
    "~ + -|按位翻转,一元加号和减号(最后两个的方式名为+@和-@)\n",
    "* / % //|乘,除,取模和取整除\n",
    "+ -|加法减法\n",
    ">> <<|右移,左移运算符\n",
    "&|位'AND'\n",
    "^ \\| |位运算符\n",
    "<= <> >=|比较运算符\n",
    "<> == != |等于运算符\n",
    "= %= /= //= -= += \\*= **= | 赋值运算符\n",
    "is,is not|身份运算符\n",
    "in,not in|成员运算符\n",
    "not and or|逻辑运算符"
   ]
  },
  {
   "cell_type": "markdown",
   "metadata": {},
   "source": [
    "## python 中 `is`, `is not` 与 `==`, `!=` 的区别是什么？"
   ]
  },
  {
   "cell_type": "markdown",
   "metadata": {},
   "source": [
    "is 用于判断两个变量引用对象是否为同一个(同一块内存空间)， == 用于判断引用变量的值是否相等"
   ]
  },
  {
   "cell_type": "markdown",
   "metadata": {},
   "source": [
    "is not 用于判断两个变量是否引用自不同的对象，而 != 用于判断引用变量的值是否不等"
   ]
  },
  {
   "cell_type": "markdown",
   "metadata": {},
   "source": [
    "## python 中包含哪些数据类型？这些数据类型之间如何转换？"
   ]
  },
  {
   "cell_type": "markdown",
   "metadata": {},
   "source": [
    "|数据类型|关键字|标志性符号|是否可变(允许局部替换)|是否为序列(支持序列操作)|强制类型转换函数|\n",
    "|-------|-----|---------|---------------------|-----------------------|---------------|\n",
    "|整数|int|无|否|否|int()|\n",
    "|浮点数|float|小数点|否|否|float()|\n",
    "|复数|complex|+/j|否|否|complex()|\n",
    "|布尔|bool|True/False|否|否|bool()|\n",
    "|字符(串)|str|单引号 ''  或 双引号  \"\"|否|是|str()|\n",
    "|列表|list|方括号 []|是|是|list()|\n",
    "|元组|tuple|圆括号 ()和逗号 ,|否|是|tuple()|\n",
    "|集合|set|花括号 {}|是|否|set()|\n",
    "|字典|dict|花括号 {}和key|是|否|dict()|"
   ]
  },
  {
   "cell_type": "code",
   "execution_count": 64,
   "metadata": {},
   "outputs": [
    {
     "name": "stdout",
     "output_type": "stream",
     "text": [
      "1 <class 'int'>\n"
     ]
    }
   ],
   "source": [
    "a = 1\n",
    "print(a, type(a))"
   ]
  },
  {
   "cell_type": "code",
   "execution_count": 65,
   "metadata": {},
   "outputs": [
    {
     "name": "stdout",
     "output_type": "stream",
     "text": [
      "1 <class 'str'>\n"
     ]
    }
   ],
   "source": [
    "b = str(a)\n",
    "print(b, type(b))"
   ]
  },
  {
   "cell_type": "code",
   "execution_count": 66,
   "metadata": {},
   "outputs": [
    {
     "name": "stdout",
     "output_type": "stream",
     "text": [
      "1.0 <class 'float'>\n"
     ]
    }
   ],
   "source": [
    "c = float(a)\n",
    "print(c, type(c))"
   ]
  },
  {
   "cell_type": "markdown",
   "metadata": {},
   "source": [
    "## 给定一个非空整数数组，除了某个元素只出现一次以外，其余每个元素均出现两次。找出那个只出现了一次的元素。"
   ]
  },
  {
   "cell_type": "markdown",
   "metadata": {},
   "source": [
    "尝试使用位运算解决此题"
   ]
  },
  {
   "cell_type": "markdown",
   "metadata": {},
   "source": [
    "```\n",
    "题目说明:\n",
    "\n",
    "    Input file\n",
    "    example1: [2,2,1]\n",
    "    example2: [4,1,2,1,2]\n",
    "\n",
    "    Output file\n",
    "    result1: 1\n",
    "    result2: 4\n",
    "\n",
    "class Solution:\n",
    "    def singleNumber(self, nums: List[int]) -> int:\n",
    "    # your code here\n",
    "```"
   ]
  },
  {
   "cell_type": "markdown",
   "metadata": {},
   "source": [
    "- 任何数和 0 做异或运算，结果仍然是原来的数，即 a ^ 0 = a\n",
    "- 任何数和其自身做异或运算，结果是 0，即 a ^ a = 0\n",
    "- 异或运算满足交换律和结合律，即 a ^ b ^ a = b ^ a ^ a = b ^ (a ^ a) = b ^ 0 = b\n",
    "\n",
    "```\n",
    "a ^ 0 = a\n",
    "\n",
    "8:   a(0000 1000)\n",
    "0:  ^  0000 0000\n",
    "--  -------------\n",
    "8:     0000 1000\n",
    "\n",
    "=====================================================\n",
    "\n",
    "a ^ a = 0\n",
    "\n",
    "8:    a(0000 1000)\n",
    "8:  ^ a(0000 1000)\n",
    "--  --------------\n",
    "0:      0000 0000\n",
    "\n",
    "=====================================================\n",
    "\n",
    "a ^ b ^ a = b ^ a ^ a = b ^ (a ^ a) = b ^ 0 = b\n",
    "\n",
    "8 :    a(0000 1000)    b(0000 0110)    a(0000 1000)\n",
    "6 :  ^ b(0000 0110)  ^ a(0000 1000)  ^ a(0000 1000)\n",
    "---  --------------  --------------  --------------\n",
    "14:      0000 1110       0000 1110       0000 0000\n",
    "8 :   ^a(0000 1000)   ^a(0000 1000)  ^ b(0000 0110)\n",
    "---  --------------  --------------  --------------\n",
    "6 :    b(0000 0110)    b(0000 0110)    b(0000 0110) \n",
    "```"
   ]
  },
  {
   "cell_type": "code",
   "execution_count": 67,
   "metadata": {},
   "outputs": [],
   "source": [
    "from typing import List\n",
    "from functools import reduce\n",
    "class Solution:\n",
    "    def singleNumber(self, nums: List[int]) -> int:\n",
    "        return reduce(lambda x, y: x ^ y, nums)"
   ]
  },
  {
   "cell_type": "code",
   "execution_count": 68,
   "metadata": {},
   "outputs": [
    {
     "data": {
      "text/plain": [
       "1"
      ]
     },
     "execution_count": 68,
     "metadata": {},
     "output_type": "execute_result"
    }
   ],
   "source": [
    "Solution.singleNumber(self = 0, nums = [2,2,1])"
   ]
  },
  {
   "cell_type": "code",
   "execution_count": 69,
   "metadata": {},
   "outputs": [
    {
     "data": {
      "text/plain": [
       "4"
      ]
     },
     "execution_count": 69,
     "metadata": {},
     "output_type": "execute_result"
    }
   ],
   "source": [
    "Solution.singleNumber(self = 0, nums = [4,1,2,1,2])"
   ]
  },
  {
   "cell_type": "code",
   "execution_count": 70,
   "metadata": {},
   "outputs": [],
   "source": [
    "def singleNumber(self, nums: List[int]) -> int:\n",
    "    a = 0\n",
    "    for i in nums:\n",
    "        a ^= i\n",
    "    return a"
   ]
  },
  {
   "cell_type": "code",
   "execution_count": 71,
   "metadata": {},
   "outputs": [
    {
     "data": {
      "text/plain": [
       "1"
      ]
     },
     "execution_count": 71,
     "metadata": {},
     "output_type": "execute_result"
    }
   ],
   "source": [
    "singleNumber(self = a,nums = [2,2,1])"
   ]
  },
  {
   "cell_type": "code",
   "execution_count": 72,
   "metadata": {},
   "outputs": [
    {
     "data": {
      "text/plain": [
       "4"
      ]
     },
     "execution_count": 72,
     "metadata": {},
     "output_type": "execute_result"
    }
   ],
   "source": [
    "singleNumber(self = a,nums = [4,1,2,1,2])"
   ]
  },
  {
   "cell_type": "code",
   "execution_count": null,
   "metadata": {},
   "outputs": [],
   "source": []
  }
 ],
 "metadata": {
  "kernelspec": {
   "display_name": "Python 3",
   "language": "python",
   "name": "python3"
  },
  "language_info": {
   "codemirror_mode": {
    "name": "ipython",
    "version": 3
   },
   "file_extension": ".py",
   "mimetype": "text/x-python",
   "name": "python",
   "nbconvert_exporter": "python",
   "pygments_lexer": "ipython3",
   "version": "3.8.4"
  },
  "toc": {
   "base_numbering": 1,
   "nav_menu": {},
   "number_sections": true,
   "sideBar": true,
   "skip_h1_title": false,
   "title_cell": "Table of Contents",
   "title_sidebar": "Contents",
   "toc_cell": false,
   "toc_position": {
    "height": "calc(100% - 180px)",
    "left": "10px",
    "top": "150px",
    "width": "191.594px"
   },
   "toc_section_display": true,
   "toc_window_display": true
  }
 },
 "nbformat": 4,
 "nbformat_minor": 4
}
